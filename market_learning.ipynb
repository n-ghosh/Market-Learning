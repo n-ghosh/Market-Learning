{
 "cells": [
  {
   "attachments": {},
   "cell_type": "markdown",
   "metadata": {},
   "source": [
    "# Market Learning\n",
    "*Leveraging machine learning to help you learn the market and invest your money*"
   ]
  },
  {
   "attachments": {},
   "cell_type": "markdown",
   "metadata": {},
   "source": [
    "### Objective\n",
    "The Market Learning project is intended to provide an adaptive, fact-based introduction of the stock market to a user with limited experience looking for help with personal investment decisions."
   ]
  },
  {
   "attachments": {},
   "cell_type": "markdown",
   "metadata": {},
   "source": [
    "### Outline\n",
    "- Data Collection\n",
    "- Data Cleaning\n",
    "- Visualization\n",
    "- Prediction\n",
    "- Conclusion"
   ]
  },
  {
   "cell_type": "code",
   "execution_count": 2,
   "metadata": {},
   "outputs": [],
   "source": [
    "import requests\n",
    "from bs4 import BeautifulSoup as bs\n",
    "import numpy as np\n",
    "import pandas as pd\n",
    "import yfinance as yf"
   ]
  },
  {
   "attachments": {},
   "cell_type": "markdown",
   "metadata": {},
   "source": [
    "### Data Collection\n",
    "Get a list of tickers for various securities.\n",
    "Get financial data from yfinance for those tickers"
   ]
  },
  {
   "cell_type": "code",
   "execution_count": 18,
   "metadata": {},
   "outputs": [],
   "source": [
    "# Initialize lists of stock/security info\n",
    "acronyms = []\n",
    "# security_type = []\n",
    "# primary_exchange = []\n",
    "# industry = []\n",
    "# other_categories = []\n",
    "# name = []"
   ]
  },
  {
   "cell_type": "code",
   "execution_count": 16,
   "metadata": {},
   "outputs": [
    {
     "data": {
      "text/plain": [
       "200"
      ]
     },
     "execution_count": 16,
     "metadata": {},
     "output_type": "execute_result"
    }
   ],
   "source": [
    "# Get a list of tickers for different types of securities: stocks, ETFs, mutual funds, etc.\n",
    "# https://www.cboe.com/us/equities/market_statistics/listed_symbols/\n",
    "page_stocks = requests.get('https://stockanalysis.com/stocks/')\n",
    "page_stocks.status_code"
   ]
  },
  {
   "cell_type": "code",
   "execution_count": 50,
   "metadata": {},
   "outputs": [
    {
     "data": {
      "text/plain": [
       "1000"
      ]
     },
     "execution_count": 50,
     "metadata": {},
     "output_type": "execute_result"
    }
   ],
   "source": [
    "# webscrape the stockanalysis page for the stock acronyms\n",
    "soup = bs(page_stocks.content, 'html.parser')\n",
    "results = soup.select('.svelte-1jtwn20 a')\n",
    "for item in results:\n",
    "    acronyms.append(item.get_text())\n",
    "len(acronyms)# , acronyms"
   ]
  },
  {
   "cell_type": "code",
   "execution_count": 49,
   "metadata": {},
   "outputs": [],
   "source": [
    "ticker_objects = yf.Tickers(' '.join(acronyms))\n",
    "# ticker_objects.tickers"
   ]
  },
  {
   "cell_type": "code",
   "execution_count": 53,
   "metadata": {},
   "outputs": [],
   "source": [
    "df_aapl = ticker_objects.tickers['AAPL'].history(period='max', repair=False)\n",
    "# df_aapl.info(), df_aapl.head()"
   ]
  },
  {
   "cell_type": "code",
   "execution_count": 71,
   "metadata": {},
   "outputs": [
    {
     "data": {
      "text/plain": [
       "{'address1': 'One Apple Park Way',\n",
       " 'city': 'Cupertino',\n",
       " 'state': 'CA',\n",
       " 'zip': '95014',\n",
       " 'country': 'United States',\n",
       " 'phone': '408 996 1010',\n",
       " 'website': 'https://www.apple.com',\n",
       " 'industry': 'Consumer Electronics',\n",
       " 'sector': 'Technology',\n",
       " 'longBusinessSummary': 'Apple Inc. designs, manufactures, and markets smartphones, personal computers, tablets, wearables, and accessories worldwide. The company offers iPhone, a line of smartphones; Mac, a line of personal computers; iPad, a line of multi-purpose tablets; and wearables, home, and accessories comprising AirPods, Apple TV, Apple Watch, Beats products, and HomePod. It also provides AppleCare support and cloud services; and operates various platforms, including the App Store that allow customers to discover and download applications and digital content, such as books, music, video, games, and podcasts. In addition, the company offers various services, such as Apple Arcade, a game subscription service; Apple Fitness+, a personalized fitness service; Apple Music, which offers users a curated listening experience with on-demand radio stations; Apple News+, a subscription news and magazine service; Apple TV+, which offers exclusive original content; Apple Card, a co-branded credit card; and Apple Pay, a cashless payment service, as well as licenses its intellectual property. The company serves consumers, and small and mid-sized businesses; and the education, enterprise, and government markets. It distributes third-party applications for its products through the App Store. The company also sells its products through its retail and online stores, and direct sales force; and third-party cellular network carriers, wholesalers, retailers, and resellers. Apple Inc. was incorporated in 1977 and is headquartered in Cupertino, California.',\n",
       " 'fullTimeEmployees': 164000,\n",
       " 'companyOfficers': [{'maxAge': 1,\n",
       "   'name': 'Mr. Timothy D. Cook',\n",
       "   'age': 61,\n",
       "   'title': 'CEO & Director',\n",
       "   'yearBorn': 1961,\n",
       "   'fiscalYear': 2022,\n",
       "   'totalPay': 16425933,\n",
       "   'exercisedValue': 0,\n",
       "   'unexercisedValue': 0},\n",
       "  {'maxAge': 1,\n",
       "   'name': 'Mr. Luca  Maestri',\n",
       "   'age': 59,\n",
       "   'title': 'CFO & Sr. VP',\n",
       "   'yearBorn': 1963,\n",
       "   'fiscalYear': 2022,\n",
       "   'totalPay': 5019783,\n",
       "   'exercisedValue': 0,\n",
       "   'unexercisedValue': 0},\n",
       "  {'maxAge': 1,\n",
       "   'name': 'Mr. Jeffrey E. Williams',\n",
       "   'age': 58,\n",
       "   'title': 'Chief Operating Officer',\n",
       "   'yearBorn': 1964,\n",
       "   'fiscalYear': 2022,\n",
       "   'totalPay': 5018337,\n",
       "   'exercisedValue': 0,\n",
       "   'unexercisedValue': 0},\n",
       "  {'maxAge': 1,\n",
       "   'name': 'Ms. Katherine L. Adams',\n",
       "   'age': 58,\n",
       "   'title': 'Sr. VP, Gen. Counsel & Sec.',\n",
       "   'yearBorn': 1964,\n",
       "   'fiscalYear': 2022,\n",
       "   'totalPay': 5015208,\n",
       "   'exercisedValue': 0,\n",
       "   'unexercisedValue': 0},\n",
       "  {'maxAge': 1,\n",
       "   'name': \"Ms. Deirdre  O'Brien\",\n",
       "   'age': 55,\n",
       "   'title': 'Sr. VP of Retail',\n",
       "   'yearBorn': 1967,\n",
       "   'fiscalYear': 2022,\n",
       "   'totalPay': 5019783,\n",
       "   'exercisedValue': 0,\n",
       "   'unexercisedValue': 0},\n",
       "  {'maxAge': 1,\n",
       "   'name': 'Mr. Chris  Kondo',\n",
       "   'title': 'Sr. Director of Corp. Accounting',\n",
       "   'exercisedValue': 0,\n",
       "   'unexercisedValue': 0},\n",
       "  {'maxAge': 1,\n",
       "   'name': 'Mr. James  Wilson',\n",
       "   'title': 'Chief Technology Officer',\n",
       "   'exercisedValue': 0,\n",
       "   'unexercisedValue': 0},\n",
       "  {'maxAge': 1,\n",
       "   'name': 'Ms. Mary  Demby',\n",
       "   'title': 'Chief Information Officer',\n",
       "   'exercisedValue': 0,\n",
       "   'unexercisedValue': 0},\n",
       "  {'maxAge': 1,\n",
       "   'name': 'Ms. Nancy  Paxton',\n",
       "   'title': 'Sr. Director of Investor Relations & Treasury',\n",
       "   'exercisedValue': 0,\n",
       "   'unexercisedValue': 0},\n",
       "  {'maxAge': 1,\n",
       "   'name': 'Mr. Greg  Joswiak',\n",
       "   'title': 'Sr. VP of Worldwide Marketing',\n",
       "   'exercisedValue': 0,\n",
       "   'unexercisedValue': 0}],\n",
       " 'auditRisk': 4,\n",
       " 'boardRisk': 1,\n",
       " 'compensationRisk': 5,\n",
       " 'shareHolderRightsRisk': 1,\n",
       " 'overallRisk': 1,\n",
       " 'governanceEpochDate': 1680307200,\n",
       " 'compensationAsOfEpochDate': 1672444800,\n",
       " 'maxAge': 86400,\n",
       " 'priceHint': 2,\n",
       " 'previousClose': 165.21,\n",
       " 'open': 165.09,\n",
       " 'dayLow': 164.03,\n",
       " 'dayHigh': 165.39,\n",
       " 'regularMarketPreviousClose': 165.21,\n",
       " 'regularMarketOpen': 165.09,\n",
       " 'regularMarketDayLow': 164.03,\n",
       " 'regularMarketDayHigh': 165.39,\n",
       " 'dividendRate': 0.92,\n",
       " 'dividendYield': 0.0056,\n",
       " 'exDividendDate': 1675987200,\n",
       " 'payoutRatio': 0.1545,\n",
       " 'fiveYearAvgDividendYield': 0.94,\n",
       " 'beta': 1.296885,\n",
       " 'trailingPE': 28.005083,\n",
       " 'forwardPE': 24.996973,\n",
       " 'volume': 38730570,\n",
       " 'regularMarketVolume': 38730570,\n",
       " 'averageVolume': 64579973,\n",
       " 'averageVolume10days': 50491860,\n",
       " 'averageDailyVolume10Day': 50491860,\n",
       " 'bid': 165.16,\n",
       " 'ask': 165.22,\n",
       " 'bidSize': 900,\n",
       " 'askSize': 1200,\n",
       " 'marketCap': 2614252535808,\n",
       " 'fiftyTwoWeekLow': 124.17,\n",
       " 'fiftyTwoWeekHigh': 176.15,\n",
       " 'priceToSalesTrailing12Months': 6.745814,\n",
       " 'fiftyDayAverage': 155.5098,\n",
       " 'twoHundredDayAverage': 149.86134,\n",
       " 'trailingAnnualDividendRate': 0.91,\n",
       " 'trailingAnnualDividendYield': 0.005508141,\n",
       " 'currency': 'USD',\n",
       " 'enterpriseValue': 2673698668544,\n",
       " 'profitMargins': 0.24558,\n",
       " 'floatShares': 15805174737,\n",
       " 'sharesOutstanding': 15821899776,\n",
       " 'sharesShort': 111566048,\n",
       " 'sharesShortPriorMonth': 110773312,\n",
       " 'sharesShortPreviousMonthDate': 1677542400,\n",
       " 'dateShortInterest': 1680220800,\n",
       " 'sharesPercentSharesOut': 0.0070999996,\n",
       " 'heldPercentInsiders': 0.00071000005,\n",
       " 'heldPercentInstitutions': 0.61264,\n",
       " 'shortRatio': 1.7,\n",
       " 'shortPercentOfFloat': 0.0070999996,\n",
       " 'impliedSharesOutstanding': 0,\n",
       " 'bookValue': 3.581,\n",
       " 'priceToBook': 46.14074,\n",
       " 'lastFiscalYearEnd': 1663977600,\n",
       " 'nextFiscalYearEnd': 1695513600,\n",
       " 'mostRecentQuarter': 1672444800,\n",
       " 'earningsQuarterlyGrowth': -0.134,\n",
       " 'netIncomeToCommon': 95171002368,\n",
       " 'trailingEps': 5.9,\n",
       " 'forwardEps': 6.61,\n",
       " 'pegRatio': 3.41,\n",
       " 'lastSplitFactor': '4:1',\n",
       " 'lastSplitDate': 1598832000,\n",
       " 'enterpriseToRevenue': 6.899,\n",
       " 'enterpriseToEbitda': 21.34,\n",
       " '52WeekChange': -0.012962937,\n",
       " 'SandP52WeekChange': -0.06967175,\n",
       " 'lastDividendValue': 0.23,\n",
       " 'lastDividendDate': 1675987200,\n",
       " 'exchange': 'NMS',\n",
       " 'quoteType': 'EQUITY',\n",
       " 'symbol': 'AAPL',\n",
       " 'underlyingSymbol': 'AAPL',\n",
       " 'shortName': 'Apple Inc.',\n",
       " 'longName': 'Apple Inc.',\n",
       " 'firstTradeDateEpochUtc': 345479400,\n",
       " 'timeZoneFullName': 'America/New_York',\n",
       " 'timeZoneShortName': 'EDT',\n",
       " 'uuid': '8b10e4ae-9eeb-3684-921a-9ab27e4d87aa',\n",
       " 'messageBoardId': 'finmb_24937',\n",
       " 'gmtOffSetMilliseconds': -14400000,\n",
       " 'currentPrice': 165.23,\n",
       " 'targetHighPrice': 205.0,\n",
       " 'targetLowPrice': 116.0,\n",
       " 'targetMeanPrice': 170.5,\n",
       " 'targetMedianPrice': 173.5,\n",
       " 'recommendationMean': 2.0,\n",
       " 'recommendationKey': 'buy',\n",
       " 'numberOfAnalystOpinions': 38,\n",
       " 'totalCash': 51355000832,\n",
       " 'totalCashPerShare': 3.246,\n",
       " 'ebitda': 125287997440,\n",
       " 'totalDebt': 111109996544,\n",
       " 'quickRatio': 0.769,\n",
       " 'currentRatio': 0.938,\n",
       " 'totalRevenue': 387537010688,\n",
       " 'debtToEquity': 195.868,\n",
       " 'revenuePerShare': 24.084,\n",
       " 'returnOnAssets': 0.19569999,\n",
       " 'returnOnEquity': 1.47943,\n",
       " 'grossProfits': 170782000000,\n",
       " 'freeCashflow': 84729126912,\n",
       " 'operatingCashflow': 109189996544,\n",
       " 'earningsGrowth': -0.105,\n",
       " 'revenueGrowth': -0.055,\n",
       " 'grossMargins': 0.43058997,\n",
       " 'ebitdaMargins': 0.32329,\n",
       " 'operatingMargins': 0.29408002,\n",
       " 'financialCurrency': 'USD',\n",
       " 'trailingPegRatio': 2.7192}"
      ]
     },
     "execution_count": 71,
     "metadata": {},
     "output_type": "execute_result"
    }
   ],
   "source": [
    "ticker_objects.tickers['AAPL'].info"
   ]
  },
  {
   "cell_type": "code",
   "execution_count": 54,
   "metadata": {},
   "outputs": [],
   "source": [
    "# Mark each company's data with the security type, acronym/name, and other info\n",
    "df_aapl['security_type'] = ticker_objects.tickers['AAPL'].info['quoteType']\n",
    "df_aapl['acronym'] = ticker_objects.tickers['AAPL'].info['symbol']\n",
    "# df_aapl['name'] = ticker_objects.tickers['AAPL'].info['shortName']\n",
    "# df_aapl['primary_exchange'] = ticker_objects.tickers['AAPL'].info['exchange']\n",
    "# df_aapl['industry'] = ticker_objects.tickers['AAPL'].info['industry']\n",
    "# df_aapl['sector'] = ticker_objects.tickers['AAPL'].info['sector']\n",
    "\n",
    "# df_aapl.info(), df_aapl.head()"
   ]
  },
  {
   "cell_type": "code",
   "execution_count": 48,
   "metadata": {},
   "outputs": [
    {
     "name": "stdout",
     "output_type": "stream",
     "text": [
      "1\n",
      "<class 'dict'>\n",
      "<class 'str'> <class 'yfinance.ticker.Ticker'>\n"
     ]
    }
   ],
   "source": [
    "# Adding all of the categories as strings takes up too much memory\n",
    "# I may be better off directly turning the classifications into number representations\n",
    "# However, some methods of doing that (like target encoding) require seeing the whole dataset first\n",
    "from enum import Enum\n",
    "class SecurityType(Enum):\n",
    "    EQUITY = 1\n",
    "    ETF = 2\n",
    "    MUTUALFUND = 3\n",
    "    INDEX = 4\n",
    "    CURRENCY = 5\n",
    "    FUTURE = 6\n",
    "    CRYPTO = 7\n"
   ]
  },
  {
   "cell_type": "code",
   "execution_count": 75,
   "metadata": {},
   "outputs": [
    {
     "name": "stdout",
     "output_type": "stream",
     "text": [
      "Got error from yahoo api for ticker AGM.A, Error: {'code': 'Not Found', 'description': 'No data found, symbol may be delisted'}\n",
      "- AGM.A: No timezone found, symbol may be delisted\n",
      "Got error from yahoo api for ticker AKO.A, Error: {'code': 'Not Found', 'description': 'No data found, symbol may be delisted'}\n",
      "- AKO.A: No timezone found, symbol may be delisted\n",
      "Got error from yahoo api for ticker AKO.B, Error: {'code': 'Not Found', 'description': 'No data found, symbol may be delisted'}\n",
      "- AKO.B: No timezone found, symbol may be delisted\n",
      "<class 'pandas.core.frame.DataFrame'>\n",
      "DatetimeIndex: 1758903 entries, 1999-11-18 00:00:00-05:00 to 2023-04-17 00:00:00-04:00\n",
      "Data columns (total 10 columns):\n",
      " #   Column         Dtype  \n",
      "---  ------         -----  \n",
      " 0   Open           float64\n",
      " 1   High           float64\n",
      " 2   Low            float64\n",
      " 3   Close          float64\n",
      " 4   Volume         float64\n",
      " 5   Dividends      float64\n",
      " 6   Stock Splits   float64\n",
      " 7   Security Type  object \n",
      " 8   Acronym        object \n",
      " 9   Adj Close      float64\n",
      "dtypes: float64(8), object(2)\n",
      "memory usage: 147.6+ MB\n"
     ]
    },
    {
     "data": {
      "text/plain": [
       "(None,\n",
       "                                 Open       High        Low      Close  \\\n",
       " Date                                                                    \n",
       " 1999-11-18 00:00:00-05:00  27.761131  30.506740  24.405391  26.845930   \n",
       " 1999-11-19 00:00:00-05:00  26.197658  26.235793  24.290988  24.634190   \n",
       " 1999-11-22 00:00:00-05:00  25.206192  26.845930  24.443524  26.845930   \n",
       " 1999-11-23 00:00:00-05:00  25.930721  26.617123  24.405384  24.405384   \n",
       " 1999-11-24 00:00:00-05:00  24.481654  25.587524  24.405387  25.053656   \n",
       " \n",
       "                                Volume  Dividends  Stock Splits Security Type  \\\n",
       " Date                                                                           \n",
       " 1999-11-18 00:00:00-05:00  62546380.0        0.0           0.0        EQUITY   \n",
       " 1999-11-19 00:00:00-05:00  15234146.0        0.0           0.0        EQUITY   \n",
       " 1999-11-22 00:00:00-05:00   6577870.0        0.0           0.0        EQUITY   \n",
       " 1999-11-23 00:00:00-05:00   5975611.0        0.0           0.0        EQUITY   \n",
       " 1999-11-24 00:00:00-05:00   4843231.0        0.0           0.0        EQUITY   \n",
       " \n",
       "                           Acronym  Adj Close  \n",
       " Date                                          \n",
       " 1999-11-18 00:00:00-05:00       A        NaN  \n",
       " 1999-11-19 00:00:00-05:00       A        NaN  \n",
       " 1999-11-22 00:00:00-05:00       A        NaN  \n",
       " 1999-11-23 00:00:00-05:00       A        NaN  \n",
       " 1999-11-24 00:00:00-05:00       A        NaN  )"
      ]
     },
     "execution_count": 75,
     "metadata": {},
     "output_type": "execute_result"
    }
   ],
   "source": [
    "# Repeat this process for all tickers\n",
    "# I haven't run this yet but I think it should work\n",
    "df_all = pd.DataFrame()\n",
    "for ticker in ticker_objects.tickers:\n",
    "    df = ticker_objects.tickers[ticker].history(period='max', repair=False)\n",
    "    df['Security Type'] = SecurityType[ticker_objects.tickers[ticker].info['quoteType']].value\n",
    "    df['Acronym'] = ticker # ticker_objects.tickers[ticker].info['symbol']\n",
    "#     df['Name'] = ticker_objects.tickers[ticker].info['shortName']\n",
    "#     df['Exchange'] = ticker_objects.tickers[ticker].info['exchange']\n",
    "#     df['Industry'] = ticker_objects.tickers[ticker].info['industry']\n",
    "#     df['Sector'] = ticker_objects.tickers[ticker].info['sector']\n",
    "    df_all = pd.concat([df_all, df])\n",
    "\n",
    "df_all.info(), df_all.head()"
   ]
  },
  {
   "cell_type": "code",
   "execution_count": null,
   "metadata": {},
   "outputs": [],
   "source": []
  }
 ],
 "metadata": {
  "kernelspec": {
   "display_name": "Python 3",
   "language": "python",
   "name": "python3"
  },
  "language_info": {
   "codemirror_mode": {
    "name": "ipython",
    "version": 3
   },
   "file_extension": ".py",
   "mimetype": "text/x-python",
   "name": "python",
   "nbconvert_exporter": "python",
   "pygments_lexer": "ipython3",
   "version": "3.8.9"
  },
  "orig_nbformat": 4
 },
 "nbformat": 4,
 "nbformat_minor": 2
}
