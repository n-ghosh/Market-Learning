{
 "cells": [
  {
   "attachments": {},
   "cell_type": "markdown",
   "metadata": {},
   "source": [
    "# Market Learning\n",
    "*Leveraging machine learning to help you learn the market and invest your money*"
   ]
  },
  {
   "attachments": {},
   "cell_type": "markdown",
   "metadata": {},
   "source": [
    "### Objective\n",
    "The Market Learning project is intended to provide an adaptive, fact-based introduction of the stock market to a user with limited experience looking for help with personal investment decisions."
   ]
  },
  {
   "attachments": {},
   "cell_type": "markdown",
   "metadata": {},
   "source": [
    "### Outline\n",
    "- Data Collection\n",
    "- Data Cleaning\n",
    "- Visualization\n",
    "- Prediction\n",
    "- Conclusion"
   ]
  },
  {
   "cell_type": "code",
   "execution_count": 2,
   "metadata": {},
   "outputs": [],
   "source": [
    "import requests\n",
    "from bs4 import BeautifulSoup as bs\n",
    "import numpy as np\n",
    "import pandas as pd\n"
   ]
  },
  {
   "attachments": {},
   "cell_type": "markdown",
   "metadata": {},
   "source": [
    "### Data Collection\n",
    "Collect data from sources\n"
   ]
  },
  {
   "cell_type": "code",
   "execution_count": 3,
   "metadata": {},
   "outputs": [
    {
     "data": {
      "text/plain": [
       "403"
      ]
     },
     "execution_count": 3,
     "metadata": {},
     "output_type": "execute_result"
    }
   ],
   "source": [
    "# Trading economics\n",
    "url_1 = 'https://tradingeconomics.com/united-states/stock-market'\n",
    "page_1 = requests.get(url_1)\n",
    "page_1.status_code"
   ]
  },
  {
   "cell_type": "code",
   "execution_count": 4,
   "metadata": {},
   "outputs": [
    {
     "data": {
      "text/plain": [
       "403"
      ]
     },
     "execution_count": 4,
     "metadata": {},
     "output_type": "execute_result"
    }
   ],
   "source": [
    "# Wall street journal\n",
    "url_2 = 'https://www.wsj.com/market-data/quotes/index/SPX/advanced-chart'\n",
    "page_2 = requests.get(url_2)\n",
    "page_2.status_code"
   ]
  },
  {
   "cell_type": "code",
   "execution_count": 5,
   "metadata": {},
   "outputs": [
    {
     "data": {
      "text/plain": [
       "404"
      ]
     },
     "execution_count": 5,
     "metadata": {},
     "output_type": "execute_result"
    }
   ],
   "source": [
    "# Yahoo finance\n",
    "url_3 = 'https://finance.yahoo.com/quote/%' + '5EDJI/history?period1=694310400&period2=1681084800&interval=1mo&filter=history&frequency=1mo&includeAdjustedClose=true'\n",
    "page_3 = requests.get(url_3)\n",
    "page_3.status_code"
   ]
  },
  {
   "attachments": {},
   "cell_type": "markdown",
   "metadata": {},
   "source": [
    "I was unable to webscrape several of the websites I found that contained sufficient historical data. \n",
    "Yahoo Finance lets users download .csv files of individual stocks' data, so I manually downloaded the following:"
   ]
  },
  {
   "cell_type": "code",
   "execution_count": 7,
   "metadata": {},
   "outputs": [
    {
     "name": "stdout",
     "output_type": "stream",
     "text": [
      "<class 'pandas.core.frame.DataFrame'>\n",
      "RangeIndex: 2724 entries, 0 to 2723\n",
      "Data columns (total 7 columns):\n",
      " #   Column     Non-Null Count  Dtype  \n",
      "---  ------     --------------  -----  \n",
      " 0   Date       2724 non-null   object \n",
      " 1   Open       2724 non-null   float64\n",
      " 2   High       2724 non-null   float64\n",
      " 3   Low        2724 non-null   float64\n",
      " 4   Close      2724 non-null   float64\n",
      " 5   Adj Close  2724 non-null   float64\n",
      " 6   Volume     2724 non-null   int64  \n",
      "dtypes: float64(5), int64(1), object(1)\n",
      "memory usage: 149.1+ KB\n"
     ]
    }
   ],
   "source": [
    "# Make an np array of dataframes so I don't need to memorize each acronym\n",
    "df_ixic = pd.read_csv('^IXIC.csv')\n",
    "df_ixic.info()"
   ]
  },
  {
   "cell_type": "code",
   "execution_count": 8,
   "metadata": {},
   "outputs": [
    {
     "name": "stdout",
     "output_type": "stream",
     "text": [
      "<class 'pandas.core.frame.DataFrame'>\n",
      "RangeIndex: 413 entries, 0 to 412\n",
      "Data columns (total 7 columns):\n",
      " #   Column     Non-Null Count  Dtype  \n",
      "---  ------     --------------  -----  \n",
      " 0   Date       413 non-null    object \n",
      " 1   Open       413 non-null    float64\n",
      " 2   High       413 non-null    float64\n",
      " 3   Low        413 non-null    float64\n",
      " 4   Close      413 non-null    float64\n",
      " 5   Adj Close  413 non-null    float64\n",
      " 6   Volume     413 non-null    int64  \n",
      "dtypes: float64(5), int64(1), object(1)\n",
      "memory usage: 22.7+ KB\n"
     ]
    }
   ],
   "source": [
    "df_index = pd.read_csv('INDEX.csv')\n",
    "df_index.info()"
   ]
  },
  {
   "cell_type": "code",
   "execution_count": 9,
   "metadata": {},
   "outputs": [
    {
     "data": {
      "text/plain": [
       "200"
      ]
     },
     "execution_count": 9,
     "metadata": {},
     "output_type": "execute_result"
    }
   ],
   "source": [
    "url_4 = 'https://www.google.com/finance/quote/.IXIC:INDEXNASDAQ?window=MAX'\n",
    "page_4 = requests.get(url_4)\n",
    "page_4.status_code"
   ]
  },
  {
   "cell_type": "code",
   "execution_count": null,
   "metadata": {},
   "outputs": [],
   "source": [
    "# Initialize lists of stock ticker info\n",
    "ticker = []\n",
    "name = []\n",
    "market_cap = []\n",
    "stock_price = []\n",
    "day_change = []\n",
    "stock_volume = []\n",
    "market_time = []\n",
    "security_type = []\n",
    "primary_exchange = []\n",
    "industry = []\n",
    "dividend_yield = []\n",
    "PE_ratio = []\n",
    "other_categories = []\n"
   ]
  }
 ],
 "metadata": {
  "kernelspec": {
   "display_name": "Python 3",
   "language": "python",
   "name": "python3"
  },
  "language_info": {
   "codemirror_mode": {
    "name": "ipython",
    "version": 3
   },
   "file_extension": ".py",
   "mimetype": "text/x-python",
   "name": "python",
   "nbconvert_exporter": "python",
   "pygments_lexer": "ipython3",
   "version": "3.8.9"
  },
  "orig_nbformat": 4
 },
 "nbformat": 4,
 "nbformat_minor": 2
}
